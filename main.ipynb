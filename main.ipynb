{
  "cells": [
    {
      "cell_type": "markdown",
      "metadata": {
        "id": "p6yklm2xWn9f"
      },
      "source": [
        "## Part I: Data Pre-processing"
      ]
    },
    {
      "cell_type": "code",
      "execution_count": 1,
      "metadata": {
        "id": "YycoIJomXwqH"
      },
      "outputs": [],
      "source": [
        "import pandas as pd"
      ]
    },
    {
      "cell_type": "code",
      "execution_count": null,
      "metadata": {
        "id": "KKAXuhZIUxD8"
      },
      "outputs": [],
      "source": [
        "# Download the Google Analogy dataset\n",
        "!wget http://download.tensorflow.org/data/questions-words.txt"
      ]
    },
    {
      "cell_type": "code",
      "execution_count": 3,
      "metadata": {
        "id": "xue5pVFLVNQQ"
      },
      "outputs": [],
      "source": [
        "# Preprocess the dataset\n",
        "file_name = \"questions-words\"\n",
        "with open(f\"{file_name}.txt\", \"r\") as f:\n",
        "    data = f.read().splitlines()"
      ]
    },
    {
      "cell_type": "code",
      "execution_count": null,
      "metadata": {
        "id": "h7dOdJOsZzAF"
      },
      "outputs": [],
      "source": [
        "# check data from the first 10 entries\n",
        "for entry in data[:10]:\n",
        "    print(entry)"
      ]
    },
    {
      "cell_type": "code",
      "execution_count": null,
      "metadata": {
        "id": "wmYQ0IWZZxf3"
      },
      "outputs": [],
      "source": [
        "# TODO1: Write your code here for processing data to pd.DataFrame\n",
        "# Please note that the first five mentions of \": \" indicate `semantic`,\n",
        "# and the remaining nine belong to the `syntatic` category.\n",
        "df = pd.DataFrame(columns=[\"Question\", \"Category\", \"SubCategory\"])\n",
        "dataArray = []\n",
        "\n",
        "count = 0\n",
        "for entry in data:\n",
        "    if entry.startswith(\": \"):\n",
        "        subcategory = entry\n",
        "        count += 1\n",
        "    else:\n",
        "        category = \"Semantic\" if count <= 5 else \"Syntactic\"\n",
        "        question = entry\n",
        "        dataArray.append({\"Question\": question, \"Category\": category, \"SubCategory\": subcategory})\n",
        "\n",
        "print(dataArray[:10])\n",
        "        "
      ]
    },
    {
      "cell_type": "code",
      "execution_count": 6,
      "metadata": {},
      "outputs": [],
      "source": [
        "df = pd.DataFrame(dataArray)"
      ]
    },
    {
      "cell_type": "code",
      "execution_count": null,
      "metadata": {
        "id": "UN2FBcicZmpV"
      },
      "outputs": [],
      "source": [
        "df.head()"
      ]
    },
    {
      "cell_type": "code",
      "execution_count": 8,
      "metadata": {
        "id": "nMGvoDeiZhbp"
      },
      "outputs": [],
      "source": [
        "df.to_csv(f\"{file_name}.csv\", index=False)"
      ]
    },
    {
      "cell_type": "markdown",
      "metadata": {
        "id": "Zi2SNNuHWiZO"
      },
      "source": [
        "## Part II: Use pre-trained word embeddings\n",
        "- After finish Part I, you can run Part II code blocks only."
      ]
    },
    {
      "cell_type": "code",
      "execution_count": 9,
      "metadata": {
        "id": "yB4rpJymXiSN"
      },
      "outputs": [],
      "source": [
        "import pandas as pd\n",
        "import numpy as np\n",
        "import gensim.downloader\n",
        "from tqdm import tqdm\n",
        "import matplotlib.pyplot as plt\n",
        "from sklearn.manifold import TSNE"
      ]
    },
    {
      "cell_type": "code",
      "execution_count": null,
      "metadata": {
        "id": "-pGLoyKSHXuQ"
      },
      "outputs": [],
      "source": [
        "data = pd.read_csv(\"questions-words.csv\")\n",
        "print(data.head())"
      ]
    },
    {
      "cell_type": "code",
      "execution_count": null,
      "metadata": {
        "id": "YWa_1hF3aZHO"
      },
      "outputs": [],
      "source": [
        "MODEL_NAME = \"glove-wiki-gigaword-100\"\n",
        "# You can try other models.\n",
        "# https://radimrehurek.com/gensim/models/word2vec.html#pretrained-models\n",
        "print(list(gensim.downloader.info()['models'].keys()))\n",
        "\n",
        "# Load the pre-trained model (using GloVe vectors here)\n",
        "model = gensim.downloader.load(MODEL_NAME)\n",
        "print(\"The Gensim model loaded successfully!\")"
      ]
    },
    {
      "cell_type": "code",
      "execution_count": 12,
      "metadata": {},
      "outputs": [],
      "source": [
        "def word_analogy(word_a, word_b, word_c, model):\n",
        "    try:\n",
        "        result = model.most_similar(positive=[word_b, word_c], negative=[word_a], topn=1)\n",
        "        return result[0][0]\n",
        "    except KeyError:\n",
        "        return None"
      ]
    },
    {
      "cell_type": "code",
      "execution_count": null,
      "metadata": {
        "id": "YTsqJcP1WSTH"
      },
      "outputs": [],
      "source": [
        "# Do predictions and preserve the gold answers (word_D)\n",
        "preds = []\n",
        "golds = []\n",
        "\n",
        "for analogy in tqdm(data[\"Question\"]):\n",
        "    # TODO2: Write your code here to use pre-trained word embeddings for getting predictions of the analogy task.\n",
        "    # You should also preserve the gold answers during iterations for evaluations later.\n",
        "    \"\"\" Hints\n",
        "    # Unpack the analogy (e.g., \"man\", \"woman\", \"king\", \"queen\")\n",
        "    # Perform vector arithmetic: word_b + word_c - word_a should be close to word_d\n",
        "    # Source: https://github.com/piskvorky/gensim/blob/develop/gensim/models/keyedvectors.py#L776\n",
        "    # Mikolov et al., 2013: big - biggest and small - smallest\n",
        "    # Mikolov et al., 2013: X = vector(”biggest”) − vector(”big”) + vector(”small”).\n",
        "    \"\"\"\n",
        "    words = analogy.split()\n",
        "    \n",
        "    word_a, word_b, word_c, word_d = list(map(str.lower, words))\n",
        "    pred = word_analogy(word_a, word_b, word_c, model)\n",
        "    \n",
        "    if pred is None:\n",
        "        print(f\"Skipping analogy due to OOV words: {analogy}\")\n",
        "        continue\n",
        "    \n",
        "    golds.append(word_d)\n",
        "    preds.append(pred)\n",
        "      "
      ]
    },
    {
      "cell_type": "code",
      "execution_count": null,
      "metadata": {},
      "outputs": [],
      "source": [
        "print(f\"Predictions: {preds[:5]}\")\n",
        "print(f\"Gold answers: {golds[:5]}\")"
      ]
    },
    {
      "cell_type": "code",
      "execution_count": null,
      "metadata": {
        "id": "xG7vcPXAW6uT"
      },
      "outputs": [],
      "source": [
        "# Perform evaluations. You do not need to modify this block!!\n",
        "\n",
        "def calculate_accuracy(gold: np.ndarray, pred: np.ndarray) -> float:\n",
        "    return np.mean(gold == pred)\n",
        "\n",
        "golds_np, preds_np = np.array(golds), np.array(preds)\n",
        "data = pd.read_csv(\"questions-words.csv\")\n",
        "\n",
        "# Evaluation: categories\n",
        "for category in data[\"Category\"].unique():\n",
        "    mask = data[\"Category\"] == category\n",
        "    golds_cat, preds_cat = golds_np[mask], preds_np[mask]\n",
        "    acc_cat = calculate_accuracy(golds_cat, preds_cat)\n",
        "    print(f\"Category: {category}, Accuracy: {acc_cat * 100}%\")\n",
        "\n",
        "# Evaluation: sub-categories\n",
        "for sub_category in data[\"SubCategory\"].unique():\n",
        "    mask = data[\"SubCategory\"] == sub_category\n",
        "    golds_subcat, preds_subcat = golds_np[mask], preds_np[mask]\n",
        "    acc_subcat = calculate_accuracy(golds_subcat, preds_subcat)\n",
        "    print(f\"Sub-Category{sub_category}, Accuracy: {acc_subcat * 100}%\")"
      ]
    },
    {
      "cell_type": "code",
      "execution_count": null,
      "metadata": {
        "id": "7_z6CybBXKZu"
      },
      "outputs": [],
      "source": [
        "# Collect words from Google Analogy dataset\n",
        "SUB_CATEGORY = \": family\"\n",
        "\n",
        "# TODO3: Plot t-SNE for the words in the SUB_CATEGORY `: family`\n",
        "# Filter the data for the specific sub-category\n",
        "family_data = data[data[\"SubCategory\"] == SUB_CATEGORY]\n",
        "\n",
        "# Collect unique words from the family category\n",
        "family_words = set()\n",
        "for question in family_data[\"Question\"]:\n",
        "    family_words.update(question.lower().split())\n",
        "\n",
        "# Get word vectors for family words\n",
        "word_vectors = []\n",
        "words = []\n",
        "for word in family_words:\n",
        "    if word in model:\n",
        "        word_vectors.append(model[word])\n",
        "        words.append(word)\n",
        "\n",
        "# Convert to numpy array\n",
        "word_vectors = np.array(word_vectors)\n",
        "\n",
        "# Apply t-SNE\n",
        "tsne = TSNE(n_components=2, random_state=42, perplexity=5)\n",
        "tsne_results = tsne.fit_transform(word_vectors)\n",
        "\n",
        "# Create the plot\n",
        "plt.figure(figsize=(12, 8))\n",
        "plt.scatter(tsne_results[:, 0], tsne_results[:, 1], alpha=0.6)\n",
        "\n",
        "# Annotate points with words\n",
        "for i, word in enumerate(words):\n",
        "    plt.annotate(word, (tsne_results[i, 0], tsne_results[i, 1]), fontsize=9)\n",
        "\n",
        "plt.title(\"Word Relationships from Google Analogy Task: Family Category\")\n",
        "plt.xlabel(\"t-SNE dimension 1\")\n",
        "plt.ylabel(\"t-SNE dimension 2\")\n",
        "plt.tight_layout()\n",
        "\n",
        "plt.title(\"Word Relationships from Google Analogy Task\")\n",
        "plt.show()\n",
        "plt.savefig(\"word_relationships.png\", bbox_inches=\"tight\")"
      ]
    },
    {
      "cell_type": "markdown",
      "metadata": {
        "id": "DKRPJxgKXH4j"
      },
      "source": [
        "### Part III: Train your own word embeddings"
      ]
    },
    {
      "cell_type": "markdown",
      "metadata": {
        "id": "VC_0fE1UzL8T"
      },
      "source": [
        "### Get the latest English Wikipedia articles and do sampling.\n",
        "- Usually, we start from Wikipedia dump (https://dumps.wikimedia.org/enwiki/latest/enwiki-latest-pages-articles.xml.bz2). However, the downloading step will take very long. Also, the cleaning step for the Wikipedia corpus ([`gensim.corpora.wikicorpus.WikiCorpus`](https://radimrehurek.com/gensim/corpora/wikicorpus.html#gensim.corpora.wikicorpus.WikiCorpus)) will take much time. Therefore, we provide cleaned files for you."
      ]
    },
    {
      "cell_type": "code",
      "execution_count": null,
      "metadata": {},
      "outputs": [],
      "source": [
        "!pip install gdown"
      ]
    },
    {
      "cell_type": "code",
      "execution_count": null,
      "metadata": {
        "id": "FkubArwCCYxR"
      },
      "outputs": [],
      "source": [
        "# Download the split Wikipedia files\n",
        "# Each file contain 562365 lines (articles).\n",
        "!gdown --id 1J0os1846PQ129t720aI0wMm-5GepEwSl -O wiki_texts_part_0.txt.gz\n",
        "!gdown --id 1tsI3RSKPN3b2-1IZ0N7bmjgVRf-THIkW -O wiki_texts_part_1.txt.gz\n",
        "!gdown --id 1koiw6RFNzDe6pe2zMTfVhsEKmpmnYyu5 -O wiki_texts_part_2.txt.gz\n",
        "!gdown --id 1YSGbDqhbg2xJsWD_hYQ5z9URl0dCTC2m -O wiki_texts_part_3.txt.gz\n",
        "!gdown --id 1PA3C99C8CcLFjkenT0a9iU07XEQmXyG_ -O wiki_texts_part_4.txt.gz"
      ]
    },
    {
      "cell_type": "code",
      "execution_count": null,
      "metadata": {
        "id": "8S3ibNT3C8Xk"
      },
      "outputs": [],
      "source": [
        "# Download the split Wikipedia files\n",
        "# Each file contain 562365 lines (articles), except the last file.\n",
        "!gdown --id 1sSLea4hq6Z7oT6noOU_II1ahWjNOKcDX -O wiki_texts_part_5.txt.gz\n",
        "!gdown --id 1i6kXTDtZkRiivJ0mj-5GkVbE4gMFlmSb -O wiki_texts_part_6.txt.gz\n",
        "!gdown --id 1ain2DN1nxXfsmJ2Aj9TFZlLVJSPsu9Jb -O wiki_texts_part_7.txt.gz\n",
        "!gdown --id 1UKhvielQDqQz5pMZ7J3SHv9m8_8gO-dE -O wiki_texts_part_8.txt.gz\n",
        "!gdown --id 1q1zMA4hbMS7tID2GTQx-c94UPB8YQaaa -O wiki_texts_part_9.txt.gz\n",
        "!gdown --id 1-kkGxwMxPsoGg5_2pdaOeE3Way6njLpH -O wiki_texts_part_10.txt.gz"
      ]
    },
    {
      "cell_type": "code",
      "execution_count": 10,
      "metadata": {
        "id": "DUg_c79BC7OL"
      },
      "outputs": [],
      "source": [
        "# Extract the downloaded wiki_texts_parts files.\n",
        "!gunzip -k wiki_texts_part_*.gz"
      ]
    },
    {
      "cell_type": "code",
      "execution_count": 11,
      "metadata": {
        "id": "7duk2RbYDB02"
      },
      "outputs": [],
      "source": [
        "# Combine the extracted wiki_texts_parts files.\n",
        "!cat wiki_texts_part_*.txt > wiki_texts_combined.txt"
      ]
    },
    {
      "cell_type": "code",
      "execution_count": null,
      "metadata": {
        "id": "givLH7NrDs6X"
      },
      "outputs": [],
      "source": [
        "# Check the first ten lines of the combined file\n",
        "!head -n 10 wiki_texts_combined.txt"
      ]
    },
    {
      "cell_type": "markdown",
      "metadata": {
        "id": "Hfwx92QCEhrq"
      },
      "source": [
        "Please note that we used the default parameters of [`gensim.corpora.wikicorpus.WikiCorpus`](https://radimrehurek.com/gensim/corpora/wikicorpus.html#gensim.corpora.wikicorpus.WikiCorpus) for cleaning the Wiki raw file. Thus, words with one character were discarded."
      ]
    },
    {
      "cell_type": "code",
      "execution_count": 13,
      "metadata": {
        "id": "vUAzButoP03w"
      },
      "outputs": [],
      "source": [
        "# Now you need to do sampling because the corpus is too big.\n",
        "# You can further perform analysis with a greater sampling ratio.\n",
        "\n",
        "import random\n",
        "\n",
        "wiki_txt_path = \"wiki_texts_combined.txt\"\n",
        "output_path = \"wiki_texts_sampled_20percent.txt\"\n",
        "sampling_ratio = 0.20\n",
        "\n",
        "# wiki_texts_combined.txt is a text file separated by linebreaks (\\n).\n",
        "# Each row in wiki_texts_combined.txt indicates a Wikipedia article.\n",
        "\n",
        "with open(wiki_txt_path, \"r\", encoding=\"utf-8\") as f:\n",
        "    total_lines = sum(1 for _ in f)\n",
        "    \n",
        "lines_to_sample = int(total_lines * sampling_ratio)\n",
        "lines_to_keep = set(random.sample(range(total_lines), lines_to_sample))\n",
        "\n",
        "with open(wiki_txt_path, \"r\", encoding=\"utf-8\") as f:\n",
        "    with open(output_path, \"w\", encoding=\"utf-8\") as output_file:\n",
        "    # TODO4: Sample `20%` Wikipedia articles\n",
        "        for i, line in enumerate(f):\n",
        "            if i in lines_to_keep:\n",
        "                output_file.write(line)\n",
        "        "
      ]
    },
    {
      "cell_type": "code",
      "execution_count": null,
      "metadata": {},
      "outputs": [],
      "source": [
        "# TODO5: Train your own word embeddings with the sampled articles\n",
        "# https://radimrehurek.com/gensim/models/word2vec.html#gensim.models.word2vec.Word2Vec\n",
        "# Hint: You should perform some pre-processing before training."
      ]
    },
    {
      "cell_type": "code",
      "execution_count": 1,
      "metadata": {},
      "outputs": [],
      "source": [
        "import gensim\n",
        "import time\n",
        "from gensim.models import Word2Vec\n",
        "from gensim.utils import simple_preprocess\n",
        "from gensim.models import Word2Vec\n",
        "from tqdm import tqdm\n",
        "import matplotlib.pyplot as plt\n",
        "from sklearn.manifold import TSNE\n",
        "import numpy as np"
      ]
    },
    {
      "cell_type": "code",
      "execution_count": 2,
      "metadata": {},
      "outputs": [],
      "source": [
        "def calculate_accuracy(gold: np.ndarray, pred: np.ndarray) -> float:\n",
        "    return np.mean(gold == pred)\n",
        "\n",
        "def predict(model, data):\n",
        "    preds = []\n",
        "    golds = []\n",
        "\n",
        "    for analogy in tqdm(data[\"Question\"]):\n",
        "        words = analogy.split()\n",
        "        word_a, word_b, word_c, word_d = list(map(str.lower, words))\n",
        "        pred = word_analogy(word_a, word_b, word_c, model)\n",
        "        \n",
        "        if pred is None:\n",
        "            print(f\"Skipping analogy due to OOV words: {analogy}\")\n",
        "            continue\n",
        "\n",
        "        golds.append(word_d)\n",
        "        preds.append(pred)\n",
        "    \n",
        "    return golds, preds\n",
        "\n",
        "def analysis_score(model, data):\n",
        "    golds, preds = predict(model, data)\n",
        "    golds_np, preds_np = np.array(golds), np.array(preds)\n",
        "    data = pd.read_csv(\"questions-words.csv\")\n",
        "\n",
        "    # Evaluation: categories\n",
        "    for category in data[\"Category\"].unique():\n",
        "        mask = data[\"Category\"] == category\n",
        "        golds_cat, preds_cat = golds_np[mask], preds_np[mask]\n",
        "        acc_cat = calculate_accuracy(golds_cat, preds_cat)\n",
        "        print(f\"Category: {category}, Accuracy: {acc_cat * 100}%\")\n",
        "\n",
        "    # Evaluation: sub-categories\n",
        "    for sub_category in data[\"SubCategory\"].unique():\n",
        "        mask = data[\"SubCategory\"] == sub_category\n",
        "        golds_subcat, preds_subcat = golds_np[mask], preds_np[mask]\n",
        "        acc_subcat = calculate_accuracy(golds_subcat, preds_subcat)\n",
        "        print(f\"Sub-Category{sub_category}, Accuracy: {acc_subcat * 100}%\")\n",
        "    \n",
        "def plot_TSNE(data, model):\n",
        "    # Collect words from Google Analogy dataset\n",
        "    SUB_CATEGORY = \": family\"\n",
        "\n",
        "    # Filter the data for the specific sub-category\n",
        "    family_data = data[data[\"SubCategory\"] == SUB_CATEGORY]\n",
        "\n",
        "    # Collect unique words from the family category\n",
        "    family_words = set()\n",
        "    for question in family_data[\"Question\"]:\n",
        "        family_words.update(question.lower().split())\n",
        "\n",
        "    # Get word vectors for family words\n",
        "    word_vectors = []\n",
        "    words = []\n",
        "    for word in family_words:\n",
        "        if word in model.wv:\n",
        "            word_vectors.append(model.wv[word])\n",
        "            words.append(word)\n",
        "\n",
        "    # Convert to numpy array\n",
        "    word_vectors = np.array(word_vectors)\n",
        "\n",
        "    # Apply t-SNE\n",
        "    tsne = TSNE(n_components=2, random_state=42, perplexity=5)\n",
        "    tsne_results = tsne.fit_transform(word_vectors)\n",
        "\n",
        "    # Create the plot\n",
        "    plt.figure(figsize=(12, 8))\n",
        "    plt.scatter(tsne_results[:, 0], tsne_results[:, 1], alpha=0.6)\n",
        "\n",
        "    # Annotate points with words\n",
        "    for i, word in enumerate(words):\n",
        "        plt.annotate(word, (tsne_results[i, 0], tsne_results[i, 1]), fontsize=9)\n",
        "\n",
        "    plt.tight_layout()\n",
        "    plt.title(\"Word Relationships from Google Analogy Task\")\n",
        "    plt.show()\n",
        "    plt.savefig(\"word_relationships.png\", bbox_inches=\"tight\")"
      ]
    },
    {
      "cell_type": "code",
      "execution_count": null,
      "metadata": {},
      "outputs": [
        {
          "name": "stderr",
          "output_type": "stream",
          "text": [
            "Preprocessing articles:   7%|▋         | 81945/1124731 [01:17<10:43, 1620.29it/s]"
          ]
        }
      ],
      "source": [
        "# 讀取採樣後的文章\n",
        "with open('wiki_texts_sampled_20percent.txt', 'r', encoding='utf-8') as f:\n",
        "    articles = f.readlines()\n",
        "\n",
        "# 預處理文章\n",
        "processed_articles = []\n",
        "for article in tqdm(articles, desc=\"Preprocessing articles\"):\n",
        "    processed_articles.append(simple_preprocess(article))"
      ]
    },
    {
      "cell_type": "code",
      "execution_count": null,
      "metadata": {
        "id": "G7q1Xzunxkdc"
      },
      "outputs": [],
      "source": [
        "# 訓練Word2Vec模型\n",
        "model = Word2Vec(sentences=processed_articles, \n",
        "                 vector_size=100,  # 詞向量的維度\n",
        "                 window=5,  # 上下文窗口大小\n",
        "                 min_count=5,  # 詞頻閾值，小於該值的詞會被忽略\n",
        "                 workers=4)  # 使用的線程數\n",
        "\n",
        "# 保存模型\n",
        "model.save(f\"word2vec_model-{time.time()}.model\")\n",
        "\n",
        "print(\"Model training completed and saved.\")"
      ]
    },
    {
      "cell_type": "code",
      "execution_count": 17,
      "metadata": {
        "id": "qWiQF70izxP7"
      },
      "outputs": [],
      "source": [
        "data = pd.read_csv(\"questions-words.csv\")"
      ]
    },
    {
      "cell_type": "code",
      "execution_count": null,
      "metadata": {},
      "outputs": [],
      "source": [
        "# Evaluation\n",
        "analysis_score(model, data)"
      ]
    },
    {
      "cell_type": "code",
      "execution_count": null,
      "metadata": {
        "id": "AjZ14dQL0mhf"
      },
      "outputs": [],
      "source": [
        "plot_TSNE(data, model)"
      ]
    },
    {
      "cell_type": "code",
      "execution_count": null,
      "metadata": {},
      "outputs": [],
      "source": [
        "# Addition, Larger Version of the Word Relationship Plot\n",
        "\n",
        "# 訓練Word2Vec模型\n",
        "model = Word2Vec(sentences=processed_articles, \n",
        "                 vector_size=300,  # 詞向量的維度\n",
        "                 window=20,  # 上下文窗口大小\n",
        "                 min_count=3,  # 詞頻閾值，小於該值的詞會被忽略\n",
        "                 workers=20)  # 使用的線程數\n",
        "\n",
        "# 保存模型\n",
        "model_name = f'word2vec_model_{time.time()}.model'\n",
        "model.save(model_name)\n",
        "\n",
        "print(f\"Model training completed and saved to {model_name}.\")\n",
        "\n",
        "# Compare the predictions with the gold answers\n",
        "model = Word2Vec.load(model_name)\n",
        "analysis_score(model, data)\n",
        "plot_TSNE(data, model)"
      ]
    },
    {
      "cell_type": "code",
      "execution_count": null,
      "metadata": {},
      "outputs": [],
      "source": [
        "# Addition, Larger Larger Version of the Word Relationship Plot\n",
        "\n",
        "# 訓練Word2Vec模型\n",
        "model = Word2Vec(sentences=processed_articles, \n",
        "                 vector_size=500,  # 詞向量的維度\n",
        "                 window=100,  # 上下文窗口大小\n",
        "                 min_count=3,  # 詞頻閾值，小於該值的詞會被忽略\n",
        "                 workers=8)  # 使用的線程數\n",
        "\n",
        "# 保存模型\n",
        "model_name = f'word2vec_model_{time.time()}.model'\n",
        "model.save(model_name)\n",
        "\n",
        "print(f\"Model training completed and saved to {model_name}.\")\n",
        "\n",
        "# Compare the predictions with the gold answers\n",
        "model = Word2Vec.load(model_name)\n",
        "analysis_score(model, data)\n",
        "plot_TSNE(data, model)"
      ]
    }
  ],
  "metadata": {
    "colab": {
      "provenance": []
    },
    "kernelspec": {
      "display_name": "Python 3",
      "name": "python3"
    },
    "language_info": {
      "codemirror_mode": {
        "name": "ipython",
        "version": 3
      },
      "file_extension": ".py",
      "mimetype": "text/x-python",
      "name": "python",
      "nbconvert_exporter": "python",
      "pygments_lexer": "ipython3",
      "version": "3.11.10"
    }
  },
  "nbformat": 4,
  "nbformat_minor": 0
}
